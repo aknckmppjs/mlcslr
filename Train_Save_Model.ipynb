{
  "cells": [
    {
      "cell_type": "code",
      "execution_count": 1,
      "metadata": {
        "id": "OuJk7tHj7Ffr"
      },
      "outputs": [],
      "source": [
        "import numpy as np\n",
        "from sklearn.datasets import load_diabetes\n",
        "from sklearn.metrics import mean_squared_error, r2_score\n",
        "import matplotlib.pyplot as plt\n",
        "\n",
        "\n",
        "def generate_data():\n",
        "    \"\"\"\n",
        "    Generates a random dataset from a normal distribution.\n",
        "\n",
        "    Returns:\n",
        "        diabetes_X_train: the training dataset\n",
        "        diabetes_y_train: The output corresponding to the training set\n",
        "        diabetes_X_test: the test dataset\n",
        "        diabetes_y_test: The output corresponding to the test set\n",
        "\n",
        "    \"\"\"\n",
        "    # Load the diabetes dataset\n",
        "    diabetes_X, diabetes_y = load_diabetes(return_X_y=True)\n",
        "    \n",
        "    # Use only one feature\n",
        "    diabetes_X = diabetes_X[:, np.newaxis, 2]\n",
        "    # #Independent Feature Scaling\n",
        "    # diabetes_X = (diabetes_X - int(np.mean(diabetes_X)))/np.std(diabetes_X)\n",
        "\n",
        "    # #Dependent Feature Scaling\n",
        "    # diabetes_y = (diabetes_y - int(np.mean(diabetes_y)))/np.std(diabetes_y) \n",
        "\n",
        "    # Split the data into training/testing sets\n",
        "    diabetes_X_train = diabetes_X[:-20]\n",
        "    diabetes_X_test = diabetes_X[-20:]\n",
        "\n",
        "    # Split the targets into training/testing sets\n",
        "    diabetes_y_train = diabetes_y[:-20].reshape(-1,1)\n",
        "    diabetes_y_test = diabetes_y[-20:].reshape(-1,1)\n",
        "\n",
        "    print(f\"# Training Samples: {len(diabetes_X_train)}; # Test samples: {len(diabetes_X_test)};\")\n",
        "    return diabetes_X_train, diabetes_y_train, diabetes_X_test, diabetes_y_test\n",
        "\n",
        "\n",
        "def evaluate(model, X, y, y_predicted):\n",
        "    \"\"\" Calculates and prints evaluation metrics. \"\"\"\n",
        "    # The coefficients\n",
        "    print(f\"Slope: {model.W}; Intercept: {model.b}\")\n",
        "    # The mean squared error\n",
        "    mse = mean_squared_error(y, y_predicted)\n",
        "    print(f\"Mean squared error: {mse:.2f}\")\n",
        "    # The coefficient of determination: 1 is perfect prediction\n",
        "    r2 = r2_score(y, y_predicted)\n",
        "    print(f\"Coefficient of determination: {r2:.2f}\")\n",
        "\n",
        "    # Plot outputs\n",
        "    plt.scatter(X, y, color=\"black\")\n",
        "    plt.plot(X, y_predicted, color=\"blue\", linewidth=3)\n",
        "\n",
        "    plt.xticks(())\n",
        "    plt.yticks(())\n",
        "\n",
        "    plt.show()\n",
        "\n",
        "    if r2 >= 0.4:\n",
        "        print(\"****** Success ******\")\n",
        "    else:\n",
        "        print(\"****** Failed ******\")"
      ]
    },
    {
      "cell_type": "code",
      "execution_count": 2,
      "metadata": {
        "id": "CXkyMdGG39Kt"
      },
      "outputs": [],
      "source": [
        "# import numpy as np\n",
        "\n",
        "class SimpleLinearRegression:\n",
        "  \n",
        "    # import numpy as np\n",
        "\n",
        "    def __init__(self, iterations=2000, lr=0.5):\n",
        "        self.iterations = iterations # number of iterations the fit method will be called\n",
        "        self.lr = lr # The learning rate\n",
        "        self.losses = [] # A list to hold the history of the calculated losses\n",
        "        self.W, self.b = None, None # the slope and the intercept of the model\n",
        "\n",
        "    def __loss(self, y, y_hat):\n",
        "        \"\"\"\n",
        "\n",
        "        :param y: the actual output on the training set\n",
        "        :param y_hat: the predicted output on the training set\n",
        "        :return:\n",
        "            loss: the sum of squared error\n",
        "\n",
        "        \"\"\"\n",
        "        #ToDO calculate the loss. use the sum of squared error formula for simplicity\n",
        "        loss = None\n",
        "        loss = 0\n",
        "        for k in range (y.shape[0]):\n",
        "          loss += ((y[k]-y_hat[k])**2)\n",
        "        loss = loss/(y.shape[0])\n",
        "        self.losses.append(loss)\n",
        "        return loss\n",
        "\n",
        "    def __init_weights(self, X):\n",
        "        \"\"\"\n",
        "\n",
        "        :param X: The training set\n",
        "        \"\"\"\n",
        "        weights = np.random.normal(size=X.shape[1] + 1)\n",
        "        self.W = weights[:X.shape[1]].reshape(-1, X.shape[1])\n",
        "        self.b = weights[-1]\n",
        "\n",
        "    def __sgd(self, X, y, y_hat):\n",
        "        \"\"\"\n",
        "\n",
        "        :param X: The training set\n",
        "        :param y: The actual output on the training set\n",
        "        :param y_hat: The predicted output on the training set\n",
        "        :return:\n",
        "            sets updated W and b to the instance Object (self)\n",
        "        \"\"\"\n",
        "        # ToDo calculate dW & db.\n",
        "        n = X.shape[0]\n",
        "        sumW = 0.0\n",
        "        sumb = 0.0\n",
        "        for k in range(n):\n",
        "          sumW += X[k]*(y_hat[k]-y[k])\n",
        "        dW = (sumW*2)/n\n",
        "        # print(\"dW \", dW)\n",
        "        # db = None\n",
        "        for k in range(n):\n",
        "          sumb += (y_hat[k]-y[k])\n",
        "        db = (sumb*2)/n\n",
        "        #  ToDO update the self.W and self.b using the learning rate and the values for dW and db\n",
        "        self.W = self.W-self.lr*dW\n",
        "        self.b = self.b-self.lr*db\n",
        "\n",
        "\n",
        "    def fit(self, X, y):\n",
        "        \"\"\"\n",
        "\n",
        "        :param X: The training set\n",
        "        :param y: The true output of the training set\n",
        "        :return:\n",
        "        \"\"\"\n",
        "        self.__init_weights(X)\n",
        "        y_hat = self.predict(X)\n",
        "        loss = self.__loss(y, y_hat)\n",
        "        print(f\"Initial Loss: {loss}\")\n",
        "        for i in range(self.iterations + 1):\n",
        "            self.__sgd(X, y, y_hat)\n",
        "            y_hat = self.predict(X)\n",
        "            loss = self.__loss(y, y_hat)\n",
        "            if not i % 100:\n",
        "                print(f\"Iteration {i}, Loss: {loss}\")\n",
        "\n",
        "    def predict(self, X):\n",
        "        \"\"\"\n",
        "\n",
        "        :param X: The training dataset\n",
        "        :return:\n",
        "            y_hat: the predicted output\n",
        "        \"\"\"\n",
        "        #ToDO calculate the predicted output y_hat. remember the function of a line is defined as y = WX + b\n",
        "        import numpy as np\n",
        "        y_ht = []\n",
        "        for k in range(X.shape[0]):\n",
        "          y_ht.append(self.W*X[k] + self.b)\n",
        "        y_hat = np.array(y_ht).reshape((-1,1))\n",
        "        return y_hat"
      ]
    },
    {
      "cell_type": "code",
      "execution_count": 3,
      "metadata": {
        "colab": {
          "base_uri": "https://localhost:8080/",
          "height": 720
        },
        "id": "Z-bsySHt5wJm",
        "outputId": "af301350-deeb-4e26-af52-d5f1c310ef22"
      },
      "outputs": [
        {
          "name": "stdout",
          "output_type": "stream",
          "text": [
            "# Training Samples: 422; # Test samples: 20;\n",
            "Initial Loss: [29197.36161984]\n",
            "Iteration 0, Loss: [5940.99822635]\n",
            "Iteration 100, Loss: [5216.98157592]\n",
            "Iteration 200, Loss: [4756.91548872]\n",
            "Iteration 300, Loss: [4464.57303435]\n",
            "Iteration 400, Loss: [4278.80817794]\n",
            "Iteration 500, Loss: [4160.76654094]\n",
            "Iteration 600, Loss: [4085.75866091]\n",
            "Iteration 700, Loss: [4038.09596992]\n",
            "Iteration 800, Loss: [4007.80939056]\n",
            "Iteration 900, Loss: [3988.56421428]\n",
            "Iteration 1000, Loss: [3976.33514062]\n",
            "Iteration 1100, Loss: [3968.56434963]\n",
            "Iteration 1200, Loss: [3963.62651097]\n",
            "Iteration 1300, Loss: [3960.48883159]\n",
            "Iteration 1400, Loss: [3958.49503784]\n",
            "Iteration 1500, Loss: [3957.22810995]\n",
            "Iteration 1600, Loss: [3956.42305863]\n",
            "Iteration 1700, Loss: [3955.91150021]\n",
            "Iteration 1800, Loss: [3955.58643769]\n",
            "Iteration 1900, Loss: [3955.37988133]\n",
            "Iteration 2000, Loss: [3955.24862803]\n",
            "Slope: [[928.18700531]]; Intercept: [152.92362572]\n",
            "Mean squared error: 2559.72\n",
            "Coefficient of determination: 0.47\n"
          ]
        },
        {
          "data": {
            "image/png": "[encoded data removed]",
            "text/plain": [
              "<Figure size 432x288 with 1 Axes>"
            ]
          },
          "metadata": {},
          "output_type": "display_data"
        },
        {
          "name": "stdout",
          "output_type": "stream",
          "text": [
            "****** Success ******\n"
          ]
        }
      ],
      "source": [
        "X_train, y_train, X_test, y_test = generate_data()\n",
        "model = SimpleLinearRegression()\n",
        "model.fit(X_train,y_train)\n",
        "predicted = model.predict(X_test)\n",
        "evaluate(model, X_test, y_test, predicted)"
      ]
    },
    {
      "cell_type": "code",
      "execution_count": null,
      "metadata": {},
      "outputs": [],
      "source": [
        "import dill\n",
        "dill.dump(model,open('slrm.pkl','wb'))\n",
        "saved_model=dill.load(open('slrm.pkl','rb'))"
      ]
    }
  ],
  "metadata": {
    "colab": {
      "provenance": []
    },
    "kernelspec": {
      "display_name": "Python 3",
      "language": "python",
      "name": "python3"
    },
    "language_info": {
      "name": "python",
      "version": "3.7.16 (default, Jan 17 2023, 16:06:28) [MSC v.1916 64 bit (AMD64)]"
    },
    "vscode": {
      "interpreter": {
        "hash": "bdbf1d3f5137dcb063420b308fc4ffda573f82124ce356fac28b1f566daca445"
      }
    }
  },
  "nbformat": 4,
  "nbformat_minor": 0
}
